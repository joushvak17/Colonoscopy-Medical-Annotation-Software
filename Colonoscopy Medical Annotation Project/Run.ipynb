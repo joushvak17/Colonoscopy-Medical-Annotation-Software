{
 "cells": [
  {
   "cell_type": "code",
   "execution_count": 24,
   "metadata": {},
   "outputs": [
    {
     "name": "stdout",
     "output_type": "stream",
     "text": [
      "Dataset URL: https://www.kaggle.com/datasets/yasserhessein/the-kvasir-dataset\n",
      "Downloading the-kvasir-dataset.zip to ./the-kvasir-dataset\n"
     ]
    },
    {
     "name": "stderr",
     "output_type": "stream",
     "text": [
      "100%|██████████| 2.32G/2.32G [01:23<00:00, 29.9MB/s]\n"
     ]
    },
    {
     "name": "stdout",
     "output_type": "stream",
     "text": [
      "\n"
     ]
    }
   ],
   "source": [
    "import opendatasets as od\n",
    "\n",
    "# Download the dataset\n",
    "od.download(\"https://www.kaggle.com/datasets/yasserhessein/the-kvasir-dataset\")"
   ]
  },
  {
   "cell_type": "code",
   "execution_count": 25,
   "metadata": {},
   "outputs": [],
   "source": [
    "import os\n",
    "import shutil\n",
    "from sklearn.model_selection import train_test_split\n",
    "\n",
    "# Define the paths for source, training, testing, and validation\n",
    "source_path = \"the-kvasir-dataset/kvasir-dataset-v2\"\n",
    "train_path = \"data/training\"\n",
    "test_path = \"data/testing\"\n",
    "validation_path = \"data/validation\"\n",
    "\n",
    "# Define the split ratios\n",
    "train_ratio = 0.7\n",
    "test_ratio = 0.2\n",
    "validation_ratio = 0.1\n",
    "\n",
    "# Create the directories\n",
    "for path in [train_path, test_path, validation_path]:\n",
    "    os.makedirs(path, exist_ok=True)    \n",
    "    \n",
    "# Process each class\n",
    "for class_name in os.listdir(source_path):\n",
    "    class_dir = os.path.join(source_path, class_name)\n",
    "    if os.path.isdir(class_dir):\n",
    "        # List all images\n",
    "        images = [os.path.join(class_dir, f) for f in os.listdir(class_dir) if os.path.isfile(os.path.join(class_dir, f))]\n",
    "        \n",
    "        # Split the dataset\n",
    "        train_val, test = train_test_split(images, test_size=test_ratio, random_state=42)\n",
    "        train, val = train_test_split(train_val, test_size=validation_ratio/(train_ratio+validation_ratio), random_state=42)\n",
    "        \n",
    "        # Define a function to copy files\n",
    "        def copy_files(filenames, dest_dir):\n",
    "            os.makedirs(dest_dir, exist_ok=True)\n",
    "            for f in filenames:\n",
    "                shutil.copy(f, dest_dir)\n",
    "                \n",
    "        # Copy the files\n",
    "        copy_files(train, os.path.join(train_path, class_name))\n",
    "        copy_files(test, os.path.join(test_path, class_name))\n",
    "        copy_files(val, os.path.join(validation_path, class_name))\n",
    "\n",
    "# Delete the downloaded dataset\n",
    "shutil.rmtree(\"the-kvasir-dataset\")"
   ]
  },
  {
   "cell_type": "code",
   "execution_count": 26,
   "metadata": {},
   "outputs": [
    {
     "name": "stdout",
     "output_type": "stream",
     "text": [
      "Training:  699\n",
      "Testing:  200\n",
      "Validation:  101\n"
     ]
    }
   ],
   "source": [
    "import os\n",
    "\n",
    "# Get the length of the training, testing, and validation datasets\n",
    "train_path = \"data/training/normal-z-line\"\n",
    "test_path = \"data/testing/normal-z-line\"\n",
    "validation_path = \"data/validation/normal-z-line\"\n",
    "\n",
    "print(\"Training: \", len(os.listdir(train_path)))\n",
    "print(\"Testing: \", len(os.listdir(test_path)))\n",
    "print(\"Validation: \", len(os.listdir(validation_path)))"
   ]
  }
 ],
 "metadata": {
  "kernelspec": {
   "display_name": "ThirdProject",
   "language": "python",
   "name": "python3"
  },
  "language_info": {
   "codemirror_mode": {
    "name": "ipython",
    "version": 3
   },
   "file_extension": ".py",
   "mimetype": "text/x-python",
   "name": "python",
   "nbconvert_exporter": "python",
   "pygments_lexer": "ipython3",
   "version": "3.9.19"
  }
 },
 "nbformat": 4,
 "nbformat_minor": 2
}
