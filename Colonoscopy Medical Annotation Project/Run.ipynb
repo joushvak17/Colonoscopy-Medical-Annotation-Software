{
 "cells": [
  {
   "cell_type": "code",
   "execution_count": 1,
   "metadata": {},
   "outputs": [
    {
     "name": "stdout",
     "output_type": "stream",
     "text": [
      "Dataset URL: https://www.kaggle.com/datasets/yasserhessein/the-kvasir-dataset\n",
      "Downloading the-kvasir-dataset.zip to ./the-kvasir-dataset\n"
     ]
    },
    {
     "name": "stderr",
     "output_type": "stream",
     "text": [
      "100%|██████████| 2.32G/2.32G [00:36<00:00, 68.1MB/s]\n"
     ]
    },
    {
     "name": "stdout",
     "output_type": "stream",
     "text": [
      "\n"
     ]
    }
   ],
   "source": [
    "import opendatasets as od\n",
    "\n",
    "# Download the dataset\n",
    "od.download(\"https://www.kaggle.com/datasets/yasserhessein/the-kvasir-dataset\")"
   ]
  },
  {
   "cell_type": "code",
   "execution_count": 2,
   "metadata": {},
   "outputs": [],
   "source": [
    "import os\n",
    "import shutil\n",
    "from sklearn.model_selection import train_test_split\n",
    "\n",
    "# Define the paths for source, training, testing, and validation\n",
    "source_path = \"the-kvasir-dataset/kvasir-dataset-v2\"\n",
    "train_path = \"data/training\"\n",
    "test_path = \"data/testing\"\n",
    "validation_path = \"data/validation\"\n",
    "\n",
    "# Define the split ratios\n",
    "train_ratio = 0.7\n",
    "test_ratio = 0.2\n",
    "validation_ratio = 0.1\n",
    "\n",
    "# Create the directories\n",
    "for path in [train_path, test_path, validation_path]:\n",
    "    os.makedirs(path, exist_ok=True)    \n",
    "    \n",
    "# Process each class\n",
    "for class_name in os.listdir(source_path):\n",
    "    class_dir = os.path.join(source_path, class_name)\n",
    "    if os.path.isdir(class_dir):\n",
    "        # List all images\n",
    "        images = [os.path.join(class_dir, f) for f in os.listdir(class_dir) if os.path.isfile(os.path.join(class_dir, f))]\n",
    "        \n",
    "        # Split the dataset\n",
    "        train_val, test = train_test_split(images, test_size=test_ratio, random_state=42)\n",
    "        train, val = train_test_split(train_val, test_size=validation_ratio/(train_ratio+validation_ratio), random_state=42)\n",
    "        \n",
    "        # Define a function to copy files\n",
    "        def copy_files(filenames, dest_dir):\n",
    "            os.makedirs(dest_dir, exist_ok=True)\n",
    "            for f in filenames:\n",
    "                shutil.copy(f, dest_dir)\n",
    "                \n",
    "        # Copy the files\n",
    "        copy_files(train, os.path.join(train_path, class_name))\n",
    "        copy_files(test, os.path.join(test_path, class_name))\n",
    "        copy_files(val, os.path.join(validation_path, class_name))\n",
    "\n",
    "# Delete the downloaded dataset\n",
    "shutil.rmtree(\"the-kvasir-dataset\")"
   ]
  },
  {
   "cell_type": "code",
   "execution_count": 3,
   "metadata": {},
   "outputs": [
    {
     "name": "stdout",
     "output_type": "stream",
     "text": [
      "Training:  699\n",
      "Testing:  200\n",
      "Validation:  101\n"
     ]
    }
   ],
   "source": [
    "import os\n",
    "\n",
    "# Get the length of the training, testing, and validation datasets\n",
    "train_path = \"data/training/normal-z-line\"\n",
    "test_path = \"data/testing/normal-z-line\"\n",
    "validation_path = \"data/validation/normal-z-line\"\n",
    "\n",
    "print(\"Training: \", len(os.listdir(train_path)))\n",
    "print(\"Testing: \", len(os.listdir(test_path)))\n",
    "print(\"Validation: \", len(os.listdir(validation_path)))"
   ]
  },
  {
   "cell_type": "code",
   "execution_count": 4,
   "metadata": {},
   "outputs": [
    {
     "name": "stdout",
     "output_type": "stream",
     "text": [
      "2.4.0\n",
      "cuda\n"
     ]
    }
   ],
   "source": [
    "import torch\n",
    "\n",
    "# Import PyTorch and setup device-agnostic code\n",
    "device = \"cuda\" if torch.cuda.is_available() else \"cpu\"\n",
    "print(torch.__version__)\n",
    "print(device)"
   ]
  },
  {
   "cell_type": "code",
   "execution_count": 6,
   "metadata": {},
   "outputs": [
    {
     "name": "stdout",
     "output_type": "stream",
     "text": [
      "Train dataset:\n",
      " Dataset ImageFolder\n",
      "    Number of datapoints: 5592\n",
      "    Root location: data/training\n",
      "    StandardTransform\n",
      "Transform: Compose(\n",
      "               Resize(size=(224, 224), interpolation=bilinear, max_size=None, antialias=True)\n",
      "               ToTensor()\n",
      "           )\n",
      "Test dataset:\n",
      " Dataset ImageFolder\n",
      "    Number of datapoints: 1600\n",
      "    Root location: data/testing\n",
      "    StandardTransform\n",
      "Transform: Compose(\n",
      "               Resize(size=(224, 224), interpolation=bilinear, max_size=None, antialias=True)\n",
      "               ToTensor()\n",
      "           )\n"
     ]
    }
   ],
   "source": [
    "from torchvision import datasets, transforms\n",
    "\n",
    "train_path = \"data/training\"\n",
    "test_path = \"data/testing\"\n",
    "\n",
    "# Create simple transformations\n",
    "data_transform = transforms.Compose([\n",
    "    transforms.Resize((224, 224)),\n",
    "    transforms.ToTensor()\n",
    "])\n",
    "\n",
    "# Use ImageFolder to create datasets\n",
    "train_dataset = datasets.ImageFolder(root=train_path, \n",
    "                                     transform=data_transform,\n",
    "                                     target_transform=None)\n",
    "\n",
    "test_dataset = datasets.ImageFolder(root=test_path,\n",
    "                                    transform = data_transform)\n",
    "\n",
    "print(f\"Train dataset:\\n {train_dataset}\\nTest dataset:\\n {test_dataset}\")"
   ]
  },
  {
   "cell_type": "code",
   "execution_count": 7,
   "metadata": {},
   "outputs": [
    {
     "name": "stdout",
     "output_type": "stream",
     "text": [
      "{'dyed-lifted-polyps': 0, 'dyed-resection-margins': 1, 'esophagitis': 2, 'normal-cecum': 3, 'normal-pylorus': 4, 'normal-z-line': 5, 'polyps': 6, 'ulcerative-colitis': 7}\n"
     ]
    }
   ],
   "source": [
    "# Get the class names as a dict\n",
    "class_names = train_dataset.class_to_idx\n",
    "print(class_names)"
   ]
  },
  {
   "cell_type": "code",
   "execution_count": 8,
   "metadata": {},
   "outputs": [
    {
     "data": {
      "text/plain": [
       "(5592, 1600)"
      ]
     },
     "execution_count": 8,
     "metadata": {},
     "output_type": "execute_result"
    }
   ],
   "source": [
    "# Check the length of the datasets\n",
    "len(train_dataset), len(test_dataset)"
   ]
  },
  {
   "cell_type": "code",
   "execution_count": 9,
   "metadata": {},
   "outputs": [
    {
     "name": "stdout",
     "output_type": "stream",
     "text": [
      "<torch.utils.data.dataloader.DataLoader object at 0x7fc51f039ac0>\n",
      "<torch.utils.data.dataloader.DataLoader object at 0x7fc51f0396d0>\n"
     ]
    }
   ],
   "source": [
    "from torch.utils.data import DataLoader\n",
    "import os\n",
    "\n",
    "NUM_WORKERS = os.cpu_count()\n",
    "\n",
    "# Create data loaders\n",
    "train_loader = DataLoader(dataset=train_dataset, \n",
    "                          batch_size=32, \n",
    "                          num_workers=NUM_WORKERS,\n",
    "                          shuffle=True)\n",
    "\n",
    "test_loader = DataLoader(dataset=test_dataset,\n",
    "                         batch_size=32,\n",
    "                         num_workers=NUM_WORKERS,\n",
    "                         shuffle=False)\n",
    "\n",
    "print(train_loader)\n",
    "print(test_loader)"
   ]
  },
  {
   "cell_type": "code",
   "execution_count": 10,
   "metadata": {},
   "outputs": [
    {
     "name": "stdout",
     "output_type": "stream",
     "text": [
      "Writing modular/data_setup.py\n"
     ]
    }
   ],
   "source": [
    "%%writefile modular/data_setup.py\n",
    "\"\"\"\n",
    "Defines the functionality for creating PyTorch DataLoaders for the multi-class classification dataset.\n",
    "\"\"\"\n",
    "import os\n",
    "\n",
    "from torchvision import datasets, transforms\n",
    "from torch.utils.data import DataLoader\n",
    "\n",
    "def create_dataloaders(train_dir: str, \n",
    "                       test_dir: str, \n",
    "                       transform: transforms.Compose, \n",
    "                       batch_size: int, num_workers: int:os.cpu_count()):\n",
    "    \"\"\"Takes in a training and testing directory path and turns them into PyTorch DataLoaders.\n",
    "\n",
    "    Args:\n",
    "        train_dir (str): Path to training directory.\n",
    "        test_dir (str): Path to testing directory.\n",
    "        transform (transforms.Compose): Torchvision transforms to apply to the datasets.\n",
    "        batch_size (int): Number of samples per batch in each DataLoader.\n",
    "        num_workers (_type_): Number of workers per DataLoader. Currently set to os.cpu_count().\n",
    "\n",
    "    Returns:\n",
    "        Tuple: Returns a tuple of (train_loader, test_loader, class_names). Where class_names is a dict of the target classes.\n",
    "    \"\"\"\n",
    "    # Use ImageFolder to create datasets\n",
    "    train_data = datasets.ImageFolder(root=train_dir,\n",
    "                                      transform=transform)\n",
    "    test_data = datasets.ImageFolder(root=test_dir,\n",
    "                                     transform=transform)\n",
    "    \n",
    "    # Get the class names\n",
    "    class_names = train_data.class_to_idx\n",
    "    \n",
    "    # Create DataLoaders\n",
    "    train_loader = DataLoader(dataset=train_data, \n",
    "                              batch_size=batch_size, \n",
    "                              num_workers=num_workers, \n",
    "                              shuffle=True,\n",
    "                              pin_memory=True)\n",
    "    \n",
    "    test_loader = DataLoader(dataset=test_data,\n",
    "                             batch_size=batch_size,\n",
    "                             num_workers=num_workers,\n",
    "                             shuffle=False,\n",
    "                             pin_memory=True)\n",
    "    \n",
    "    return train_loader, test_loader, class_names"
   ]
  }
 ],
 "metadata": {
  "kernelspec": {
   "display_name": "ThirdProject",
   "language": "python",
   "name": "python3"
  },
  "language_info": {
   "codemirror_mode": {
    "name": "ipython",
    "version": 3
   },
   "file_extension": ".py",
   "mimetype": "text/x-python",
   "name": "python",
   "nbconvert_exporter": "python",
   "pygments_lexer": "ipython3",
   "version": "3.9.19"
  }
 },
 "nbformat": 4,
 "nbformat_minor": 2
}
