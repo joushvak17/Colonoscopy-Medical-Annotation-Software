{
 "cells": [
  {
   "cell_type": "code",
   "execution_count": 1,
   "metadata": {},
   "outputs": [
    {
     "name": "stdout",
     "output_type": "stream",
     "text": [
      "Overwriting modular/models/baseline_model.py\n"
     ]
    }
   ],
   "source": [
    "%%writefile modular/models/baseline_model.py\n",
    "\"\"\"\n",
    "Defines a PyTorch baseline model for multi-class classification.\n",
    "\"\"\"\n",
    "import torch\n",
    "from torch import nn\n",
    "\n",
    "class BaseLine(nn.Module):\n",
    "    def __init__(self, input_shape: int, hidden_units: int, output_shape: int) -> None:\n",
    "        \"\"\"Defines a simple feedforward neural network for multi-class classification.\n",
    "\n",
    "        Args:\n",
    "            input_shape (int): Number of input channels.\n",
    "            hidden_units (int): Number of hidden units between layers.\n",
    "            output_shape (int): Number of output units.\n",
    "        \"\"\"\n",
    "        super().__init__()\n",
    "        self.layer_stack = nn.Sequential(\n",
    "            nn.Flatten(),\n",
    "            nn.Linear(input_shape, hidden_units),\n",
    "            nn.ReLU(),\n",
    "            nn.Linear(hidden_units, output_shape),\n",
    "            nn.ReLU()\n",
    "        )\n",
    "        \n",
    "    def forward(self, x: torch.Tensor) -> torch.Tensor:\n",
    "        return self.layer_stack(x)"
   ]
  },
  {
   "cell_type": "code",
   "execution_count": 2,
   "metadata": {},
   "outputs": [
    {
     "name": "stdout",
     "output_type": "stream",
     "text": [
      "Overwriting modular/models/TinyVGG_model.py\n"
     ]
    }
   ],
   "source": [
    "%%writefile modular/models/TinyVGG_model.py\n",
    "\"\"\"\n",
    "Defines a PyTorch model that replicates the TinyVGG architecture.\n",
    "\"\"\"\n",
    "import torch\n",
    "from torch import nn\n",
    "\n",
    "class TinyVGG(nn.Module):\n",
    "    def __init__(self, input_shape: int, hidden_units: int, output_shape: int) -> None:\n",
    "        \"\"\"Defines a TinyVGG model.\n",
    "\n",
    "        Args:\n",
    "            input_shape (int): Number of input channels.\n",
    "            hidden_units (int): Number of hidden units between layers.\n",
    "            output_shape (int): Number of output units.\n",
    "        \"\"\"\n",
    "        super().__init__()\n",
    "        self.conv_block_1 = nn.Sequential(\n",
    "            nn.Conv2d(in_channels=input_shape, \n",
    "                      out_channels=hidden_units, \n",
    "                      kernel_size=3, \n",
    "                      stride=1, \n",
    "                      padding=1),\n",
    "            nn.ReLU(),\n",
    "            nn.Conv2d(in_channels=hidden_units, \n",
    "                      out_channels=hidden_units, \n",
    "                      kernel_size=3, \n",
    "                      stride=1, \n",
    "                      padding=1),\n",
    "            nn.ReLU(),\n",
    "            nn.MaxPool2d(kernel_size=2, stride=2)\n",
    "        )\n",
    "        self.conv_block_2 = nn.Sequential(\n",
    "            nn.Conv2d(hidden_units, \n",
    "                      hidden_units, \n",
    "                      kernel_size=3, \n",
    "                      padding=1),\n",
    "            nn.ReLU(),\n",
    "            nn.Conv2d(hidden_units, \n",
    "                      hidden_units, \n",
    "                      kernel_size=3, \n",
    "                      padding=1),\n",
    "            nn.ReLU(),\n",
    "            nn.MaxPool2d(2)\n",
    "        )\n",
    "        self.classifier = nn.Sequential(\n",
    "            nn.Flatten(),\n",
    "            nn.Linear(in_features=hidden_units * 56 * 56, out_features=output_shape)\n",
    "        )\n",
    "        \n",
    "    def forward(self, x: torch.Tensor) -> torch.Tensor:\n",
    "        x = self.conv_block_1(x)\n",
    "        x = self.conv_block_2(x)\n",
    "        # print(x.shape)\n",
    "        x = self.classifier(x)\n",
    "        return x"
   ]
  },
  {
   "cell_type": "code",
   "execution_count": 3,
   "metadata": {},
   "outputs": [
    {
     "name": "stdout",
     "output_type": "stream",
     "text": [
      "Overwriting modular/models/vgg19_model.py\n"
     ]
    }
   ],
   "source": [
    "%%writefile modular/models/vgg19_model.py\n",
    "\"\"\"\n",
    "Defines a PyTorch model that replicates the VGG19 architecture.\n",
    "\"\"\"\n",
    "import torch\n",
    "from torch import nn\n",
    "import torchvision.models as models\n",
    "\n",
    "class VGG19(nn.Module):\n",
    "    def __init__(self, output_shape: int, device=None) -> None:\n",
    "        \"\"\"Defines a VGG19 model using transfer learning.\n",
    "\n",
    "        Args:\n",
    "            output_shape (int): The output shape of the model.\n",
    "            device (_type_, optional): _description_. Defaults to None.\n",
    "        \"\"\"\n",
    "        super().__init__()\n",
    "        self.weights = models.VGG19_Weights.DEFAULT\n",
    "        self.model = models.vgg19(weights=self.weights).to(device)\n",
    "        \n",
    "        for param in self.model.parameters():\n",
    "            param.requires_grad = False\n",
    "        \n",
    "        # Unfreeze the last 7 layers\n",
    "        for param in self.model.features[-7:].parameters():\n",
    "            param.requires_grad = True\n",
    "            \n",
    "        num_ftrs = self.model.classifier[6].in_features\n",
    "        self.model.classifier[6] = nn.Sequential(\n",
    "            nn.Dropout(0.5),\n",
    "            nn.Linear(num_ftrs, output_shape)\n",
    "        ).to(device)\n",
    "        \n",
    "    def forward(self, x: torch.Tensor) -> torch.Tensor:\n",
    "        return self.model(x)"
   ]
  }
 ],
 "metadata": {
  "kernelspec": {
   "display_name": "ThirdProject",
   "language": "python",
   "name": "python3"
  },
  "language_info": {
   "codemirror_mode": {
    "name": "ipython",
    "version": 3
   },
   "file_extension": ".py",
   "mimetype": "text/x-python",
   "name": "python",
   "nbconvert_exporter": "python",
   "pygments_lexer": "ipython3",
   "version": "3.11.9"
  }
 },
 "nbformat": 4,
 "nbformat_minor": 2
}
